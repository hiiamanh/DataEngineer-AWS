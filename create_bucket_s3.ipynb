{
 "cells": [
  {
   "metadata": {
    "ExecuteTime": {
     "end_time": "2024-07-11T17:15:40.146492Z",
     "start_time": "2024-07-11T17:15:40.142639Z"
    }
   },
   "cell_type": "code",
   "source": "from service.aws_s3 import S3Service",
   "id": "73ca6aba06e0287c",
   "outputs": [],
   "execution_count": 2
  },
  {
   "metadata": {
    "ExecuteTime": {
     "end_time": "2024-07-11T17:18:11.857649Z",
     "start_time": "2024-07-11T17:18:10.192353Z"
    }
   },
   "cell_type": "code",
   "source": "s3_bucket = S3Service(\"my-lakehouse\")",
   "id": "533e0b2125f0437c",
   "outputs": [
    {
     "data": {
      "text/plain": [
       "['landing-zone/', 'raw-zone/', 'staging-zone']"
      ]
     },
     "execution_count": 5,
     "metadata": {},
     "output_type": "execute_result"
    }
   ],
   "execution_count": 5
  },
  {
   "metadata": {
    "ExecuteTime": {
     "end_time": "2024-07-11T17:18:06.815681Z",
     "start_time": "2024-07-11T17:18:06.138780Z"
    }
   },
   "cell_type": "code",
   "source": "s3_bucket.bucket.put_object(Key=\"staging-zone\", Body=\"\")",
   "id": "682a254cde65f1a5",
   "outputs": [
    {
     "data": {
      "text/plain": [
       "s3.Object(bucket_name='my-lakehouse', key='staging-zone')"
      ]
     },
     "execution_count": 4,
     "metadata": {},
     "output_type": "execute_result"
    }
   ],
   "execution_count": 4
  },
  {
   "metadata": {
    "ExecuteTime": {
     "end_time": "2024-07-11T17:18:25.944005Z",
     "start_time": "2024-07-11T17:18:25.283477Z"
    }
   },
   "cell_type": "code",
   "source": "s3_bucket.get_bucket()",
   "id": "b4cbfbfcf1f7d9c9",
   "outputs": [
    {
     "data": {
      "text/plain": [
       "['landing-zone/', 'raw-zone/', 'staging-zone']"
      ]
     },
     "execution_count": 6,
     "metadata": {},
     "output_type": "execute_result"
    }
   ],
   "execution_count": 6
  },
  {
   "metadata": {},
   "cell_type": "code",
   "outputs": [],
   "execution_count": null,
   "source": "",
   "id": "2b744fc5b8835516"
  }
 ],
 "metadata": {
  "kernelspec": {
   "display_name": "Python 3",
   "language": "python",
   "name": "python3"
  },
  "language_info": {
   "codemirror_mode": {
    "name": "ipython",
    "version": 2
   },
   "file_extension": ".py",
   "mimetype": "text/x-python",
   "name": "python",
   "nbconvert_exporter": "python",
   "pygments_lexer": "ipython2",
   "version": "2.7.6"
  }
 },
 "nbformat": 4,
 "nbformat_minor": 5
}
